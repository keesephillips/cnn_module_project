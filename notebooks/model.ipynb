{
  "cells": [
    {
      "cell_type": "markdown",
      "metadata": {},
      "source": [
        "### Datasource: http://vision.stanford.edu/aditya86/ImageNetDogs/"
      ]
    },
    {
      "cell_type": "markdown",
      "metadata": {},
      "source": [
        "Attribution: https://github.com/AIPI540/AIPI540-Deep-Learning-Applications/\n",
        "\n",
        "Jon Reifschneider\n",
        "Brinnae Bent "
      ]
    },
    {
      "cell_type": "code",
      "execution_count": null,
      "metadata": {
        "colab": {
          "base_uri": "https://localhost:8080/"
        },
        "id": "ksPE3o7SdcT2",
        "outputId": "ad67cc85-e1dc-4241-b67d-91e39022917d"
      },
      "outputs": [],
      "source": [
        "import torch\n",
        "import torchvision\n",
        "from torchvision import transforms\n",
        "import matplotlib as plt\n",
        "\n",
        "# Define the transformation\n",
        "transform = transforms.Compose([\n",
        "    transforms.Resize(299),\n",
        "    transforms.CenterCrop(299),\n",
        "    transforms.ToTensor(),\n",
        "    transforms.Normalize(\n",
        "        mean=[0.485, 0.456, 0.406],\n",
        "        std=[0.229, 0.224, 0.225]\n",
        "    )\n",
        "])\n",
        "\n",
        "# Load the data\n",
        "train_data = torchvision.datasets.ImageFolder(root=\"output/train/\", transform=transform)\n",
        "test_data = torchvision.datasets.ImageFolder(root=\"output/test/\", transform=transform)\n",
        "\n",
        "# Define the dataloaders\n",
        "train_loader = torch.utils.data.DataLoader(train_data, batch_size=32, shuffle=True, num_workers=4)\n",
        "test_loader = torch.utils.data.DataLoader(test_data, batch_size=32, shuffle=False, num_workers=4)"
      ]
    },
    {
      "cell_type": "code",
      "execution_count": null,
      "metadata": {
        "id": "T3KTJpNGEE7c"
      },
      "outputs": [],
      "source": [
        "import os"
      ]
    },
    {
      "cell_type": "code",
      "execution_count": null,
      "metadata": {
        "id": "xqlEybUkdiAL"
      },
      "outputs": [],
      "source": [
        "import torch.nn as nn\n",
        "import torch.optim as optim\n",
        "from torchvision.models import inception_v3\n",
        "import torch.nn.functional as F\n"
      ]
    },
    {
      "cell_type": "code",
      "execution_count": null,
      "metadata": {
        "colab": {
          "base_uri": "https://localhost:8080/"
        },
        "id": "Vq5fLFzSdl9Y",
        "outputId": "4114e4be-7b2f-4b1d-a48e-1ec25e282b4a"
      },
      "outputs": [],
      "source": [
        "# Define the model\n",
        "model = inception_v3(pretrained=True)\n",
        "\n",
        "# Replace the last layer\n",
        "num_features = model.fc.in_features\n",
        "   \n",
        "class Multiclass_Net(nn.Module):\n",
        "    def __init__(self, n_input, n_hidden1, n_hidden2, n_hidden3, n_output):\n",
        "        super().__init__()\n",
        "        self.hidden1 = nn.Linear(n_input, n_hidden1)\n",
        "        self.hidden2 = nn.Linear(n_hidden1, n_hidden2)\n",
        "        self.hidden3 = nn.Linear(n_hidden2, n_hidden3)\n",
        "        self.out = nn.Linear(n_hidden3, n_output)\n",
        "\n",
        "    def forward(self, x):\n",
        "        x = F.relu(self.hidden1(x))\n",
        "        x = F.relu(self.hidden2(x))\n",
        "        x = F.relu(self.hidden3(x))\n",
        "        x = self.out(x)\n",
        "        return x\n",
        "\n",
        "# Instantiate our neural network\n",
        "# n_input=4 since we have 4 features\n",
        "# n_output=3 since we have 3 classes\n",
        "net = Multiclass_Net(n_input=num_features, n_hidden1=224, n_hidden2=75, n_hidden3=10, n_output=len(train_data.classes))\n",
        "model.fc = nn.Linear(num_features, len(train_data.classes))"
      ]
    },
    {
      "cell_type": "code",
      "execution_count": null,
      "metadata": {
        "id": "foSpMPOFd5Hm"
      },
      "outputs": [],
      "source": [
        "# Define the loss function and optimizer\n",
        "criterion = nn.CrossEntropyLoss()\n",
        "optimizer = optim.SGD(model.parameters(), lr=0.001, momentum=0.9)\n",
        "\n",
        "# Move the model to the device\n",
        "device = torch.device(\"cuda:0\" if torch.cuda.is_available() else \"cpu\")\n",
        "model = model.to(device)"
      ]
    },
    {
      "cell_type": "code",
      "execution_count": null,
      "metadata": {
        "id": "ZH8ML_nCm8cQ"
      },
      "outputs": [],
      "source": [
        "def train_model(model,criterion,optimizer,trainloader,num_iter,device, len_train_data):\n",
        "\n",
        "    model = model.to(device)\n",
        "    model.train() # Set the model to training mode\n",
        "\n",
        "    cost = []\n",
        "\n",
        "    for epoch in range(num_iter):\n",
        "\n",
        "        running_loss = 0.0\n",
        "        train_loss = 0.0\n",
        "\n",
        "        for i, data in enumerate(trainloader):\n",
        "\n",
        "            # Get the inputs X and labels y for the minibatch\n",
        "            inputs, labels = data[0].to(device), data[1].to(device)\n",
        "\n",
        "            # Zero the gradients of the weights each iteration\n",
        "            optimizer.zero_grad()\n",
        "\n",
        "            # Calculate the predictions and the cost/loss\n",
        "            outputs = model(inputs)\n",
        "            loss = criterion(outputs, labels)\n",
        "\n",
        "            # Use autograd to calculate the gradient of the cost with respect to each weight\n",
        "            loss.backward()\n",
        "\n",
        "            # Use the optimizer to do the weights update\n",
        "            optimizer.step()\n",
        "\n",
        "            # Add the loss to running loss for the epoch\n",
        "            running_loss += loss.item()\n",
        "\n",
        "            # Update the training loss\n",
        "            train_loss += loss.item() * inputs.size(0)\n",
        "\n",
        "        train_loss /= len_train_data\n",
        "        print(f\"Epoch [{epoch + 1}/{num_iter}] Train Loss: {train_loss:.4f}\")\n",
        "\n",
        "        cost.append(running_loss)\n",
        "    return cost"
      ]
    },
    {
      "cell_type": "code",
      "execution_count": null,
      "metadata": {
        "colab": {
          "base_uri": "https://localhost:8080/"
        },
        "id": "roafLeZbnEnB",
        "outputId": "281736df-1736-404d-c85b-a668e50f4e48"
      },
      "outputs": [],
      "source": [
        "# Define the cost / loss function\n",
        "criterion = nn.CrossEntropyLoss()\n",
        "# Define the method of updating the weights each iteration\n",
        "optimizer = optim.SGD(net.parameters(), lr=0.01)\n",
        "# Number of iterations (epochs) to train\n",
        "n_iter = 10\n",
        "# Set device\n",
        "device = torch.device(\"cuda\" if torch.cuda.is_available() else \"cpu\")\n",
        "\n",
        "# Train model\n",
        "cost_path = train_model(net,criterion,optimizer,train_loader,n_iter,device,len(train_data))\n",
        "\n",
        "# Plot the cost over training\n",
        "plt.plot(cost_path)\n",
        "plt.xlabel('Epoch')\n",
        "plt.ylabel('Loss')\n",
        "plt.show()"
      ]
    },
    {
      "cell_type": "code",
      "execution_count": null,
      "metadata": {
        "id": "nSnDDMY1nH7z"
      },
      "outputs": [],
      "source": [
        "def test_model(model,testloader,device):\n",
        "    # Turn autograd off\n",
        "    with torch.no_grad():\n",
        "\n",
        "        # Set the model to evaluation mode\n",
        "        model.eval()\n",
        "\n",
        "        # Set up lists to store true and predicted values\n",
        "        y_true = []\n",
        "        test_preds = []\n",
        "\n",
        "        # Calculate the predictions on the test set and add to list\n",
        "        for data in testloader:\n",
        "            inputs, labels = data[0].to(device), data[1].to(device)\n",
        "            # Feed inputs through model to get raw scores\n",
        "            logits = model.forward(inputs)\n",
        "            # Convert raw scores to probabilities (not necessary since we just care about discrete probs in this case)\n",
        "            probs = F.softmax(logits,dim=1)\n",
        "            # Get discrete predictions using argmax\n",
        "            preds = np.argmax(probs.cpu().numpy(),axis=1)\n",
        "            test_preds.extend(preds)\n",
        "            y_true.extend(labels)\n",
        "\n",
        "        # Calculate the accuracy\n",
        "        test_acc = np.sum(test_preds==y_test)/len(y_test)\n",
        "\n",
        "    return test_acc"
      ]
    },
    {
      "cell_type": "code",
      "execution_count": null,
      "metadata": {
        "id": "y-tkN8PznKj9"
      },
      "outputs": [],
      "source": [
        "# Test model\n",
        "device = torch.device(\"cuda\" if torch.cuda.is_available() else \"cpu\")\n",
        "acc = test_model(model,test_loader,device)\n",
        "print('Test set accuracy is {:.3f}'.format(acc))"
      ]
    },
    {
      "cell_type": "code",
      "execution_count": null,
      "metadata": {
        "id": "zOdmV0-aeA3M"
      },
      "outputs": [],
      "source": [
        "# OPTION 2: Save the entire model\n",
        "\n",
        "model_dir = 'models/'\n",
        "os.makedirs(os.path.dirname(model_dir), exist_ok=True)\n",
        "filename = 'multi_class_model.pt'\n",
        "\n",
        "# Save the entire model\n",
        "torch.save(net, model_dir+filename)"
      ]
    },
    {
      "cell_type": "code",
      "execution_count": null,
      "metadata": {
        "colab": {
          "base_uri": "https://localhost:8080/"
        },
        "id": "L1e9AQiCd_to",
        "outputId": "f9772b9e-7087-477e-9ad9-1b472d355107"
      },
      "outputs": [],
      "source": [
        "# Define the number of epochs\n",
        "num_epochs = 10\n",
        "\n",
        "# Train the model\n",
        "for epoch in range(num_epochs):\n",
        "    # Train the model on the training set\n",
        "    model.train()\n",
        "    train_loss = 0.0\n",
        "    for i, (inputs, labels) in enumerate(train_loader):\n",
        "        # Move the data to the device\n",
        "        inputs = inputs.to(device)\n",
        "        labels = labels.to(device)\n",
        "\n",
        "        # Zero the parameter gradients\n",
        "        optimizer.zero_grad()\n",
        "\n",
        "        # Forward + backward + optimize\n",
        "        outputs = model(inputs)\n",
        "        loss = criterion(outputs, labels)\n",
        "        loss.backward()\n",
        "        optimizer.step()\n",
        "\n",
        "        # Update the training loss\n",
        "        train_loss += loss.item() * inputs.size(0)\n",
        "\n",
        "    # Evaluate the model on the test set\n",
        "    model.eval()\n",
        "    test_loss = 0.0\n",
        "    test_acc = 0.0\n",
        "    with torch.no_grad():\n",
        "        for i, (inputs, labels) in enumerate(test_loader):\n",
        "            # Move the data to the device\n",
        "            inputs = inputs.to(device)\n",
        "            labels = labels.to(device)\n",
        "\n",
        "            # Forward\n",
        "            outputs = model(inputs)\n",
        "            loss = criterion(outputs, labels)\n",
        "\n",
        "            # Update the test loss and accuracy\n",
        "            test_loss += loss.item() * inputs.size(0)\n",
        "            _, preds = torch.max(outputs, 1)\n",
        "            test_acc += torch.sum(preds == labels.data)\n",
        "\n",
        "    # Print the training and test loss and accuracy\n",
        "    train_loss /= len(train_data)\n",
        "    test_loss /= len(test_data)\n",
        "    test_acc = test_acc.double() / len(test_data)\n",
        "    print(f\"Epoch [{epoch + 1}/{num_epochs}] Train Loss: {train_loss:.4f} Test Loss: {test_loss:.4f} Test Acc: {test_acc:.4f}\")"
      ]
    }
  ],
  "metadata": {
    "accelerator": "GPU",
    "colab": {
      "gpuType": "T4",
      "provenance": []
    },
    "kernelspec": {
      "display_name": "Python 3",
      "name": "python3"
    },
    "language_info": {
      "codemirror_mode": {
        "name": "ipython",
        "version": 3
      },
      "file_extension": ".py",
      "mimetype": "text/x-python",
      "name": "python",
      "nbconvert_exporter": "python",
      "pygments_lexer": "ipython3",
      "version": "3.11.9"
    }
  },
  "nbformat": 4,
  "nbformat_minor": 0
}
